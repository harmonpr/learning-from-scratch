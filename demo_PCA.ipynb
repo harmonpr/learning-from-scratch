{
 "cells": [
  {
   "cell_type": "markdown",
   "id": "d8a3f627-5588-45de-b4a5-121771fc7ce5",
   "metadata": {},
   "source": [
    "# Principal Component Analysis"
   ]
  },
  {
   "cell_type": "markdown",
   "id": "9f55bc10-d8b5-4816-8aab-3ac5f750f64a",
   "metadata": {},
   "source": [
    "This notebook shows you a demo about how to use `learning` module. The very beginning step is __to put folder `learning` in your working directory__. Then you can import it for principal component analysis(PCA) case as follow,"
   ]
  },
  {
   "cell_type": "code",
   "execution_count": 1,
   "id": "9c2f6f5c-065a-4856-a23f-4732560fdd0e",
   "metadata": {},
   "outputs": [],
   "source": [
    "from learning.pca import PrincipalCA"
   ]
  },
  {
   "cell_type": "markdown",
   "id": "f5e3ce07-9c38-40c7-9963-f564daad83eb",
   "metadata": {},
   "source": [
    "The documentation about `PrincipalCA` class can be accessed by"
   ]
  },
  {
   "cell_type": "code",
   "execution_count": 2,
   "id": "05042c45-e54b-47b1-97d0-ef7e995a3689",
   "metadata": {},
   "outputs": [
    {
     "data": {
      "text/plain": [
       "\u001b[1;31mInit signature:\u001b[0m \u001b[0mPrincipalCA\u001b[0m\u001b[1;33m(\u001b[0m\u001b[0mn_components\u001b[0m\u001b[1;33m)\u001b[0m\u001b[1;33m\u001b[0m\u001b[1;33m\u001b[0m\u001b[0m\n",
       "\u001b[1;31mDocstring:\u001b[0m     \n",
       "A class use to implement Principal Component Analysis\n",
       "\n",
       "Attributes\n",
       "----------\n",
       "n_components : int\n",
       "    the number of desired dimensions\n",
       "X : float\n",
       "    the input array\n",
       "X_mean : float\n",
       "    the standarized imput array\n",
       "components : float\n",
       "    the sorted eigenvectors array with [:, n_components] elements\n",
       "explained_variance : float\n",
       "    the sorted eigenvalues array with [:n_components] elements\n",
       "x_cov_matrix : float\n",
       "    the covariance matrix of X_mean\n",
       "X_transform : float\n",
       "    Reduced array dimension result\n",
       "    \n",
       "Methods\n",
       "-------\n",
       "fit(X, n_components)\n",
       "    Train the model and result the components and explained_variance\n",
       "    The proccess inside this method as follow:\n",
       "        1. Compute the standarized input array (X_mean)\n",
       "        2. Form the covariance matrix from X_mean\n",
       "        3. Find the eigenvalues and eigenvectors of the covariance matrix\n",
       "        4. Sort descendingly the eigenvalues and associated eigenvectors \n",
       "           then get the index\n",
       "        5. Get the components and explained_variance based on desired\n",
       "           dimension (n_components)\n",
       "transform(X)\n",
       "    transform input array (X) by X_mean\n",
       "\u001b[1;31mFile:\u001b[0m           h:\\dropbox\\machinelearning\\demos\\learning\\pca.py\n",
       "\u001b[1;31mType:\u001b[0m           type\n",
       "\u001b[1;31mSubclasses:\u001b[0m     \n"
      ]
     },
     "metadata": {},
     "output_type": "display_data"
    }
   ],
   "source": [
    "PrincipalCA?"
   ]
  },
  {
   "cell_type": "markdown",
   "id": "536c5236-be51-469a-8fd9-bb26620434f1",
   "metadata": {},
   "source": [
    " "
   ]
  },
  {
   "cell_type": "markdown",
   "id": "ca25e29f-f024-4790-8e9c-211a45a0c1b7",
   "metadata": {},
   "source": [
    "### Module implementation"
   ]
  },
  {
   "cell_type": "markdown",
   "id": "3eebdbaa-c2ad-4021-be64-225b00b5a8e8",
   "metadata": {},
   "source": [
    "Now, I will show you how to implement the module."
   ]
  },
  {
   "cell_type": "code",
   "execution_count": 3,
   "id": "8ec899df-8fec-4a67-89a5-ca81f8cc5ce6",
   "metadata": {},
   "outputs": [
    {
     "data": {
      "text/plain": [
       "array([[ 1,  2,  3],\n",
       "       [ 4,  5,  6],\n",
       "       [ 7,  8,  9],\n",
       "       [10, 11, 12]])"
      ]
     },
     "execution_count": 3,
     "metadata": {},
     "output_type": "execute_result"
    }
   ],
   "source": [
    "import numpy as np\n",
    "\n",
    "# Define a matrix\n",
    "A = np.array([[1, 2, 3], [4, 5, 6], [7, 8, 9], [10, 11, 12]])\n",
    "A"
   ]
  },
  {
   "cell_type": "code",
   "execution_count": 4,
   "id": "da8ef184-9522-4fa8-97e0-2fa5c7f7424c",
   "metadata": {},
   "outputs": [
    {
     "data": {
      "text/plain": [
       "array([[ 7.79422863e+00, -4.44089210e-16],\n",
       "       [ 2.59807621e+00, -2.22044605e-16],\n",
       "       [-2.59807621e+00,  2.22044605e-16],\n",
       "       [-7.79422863e+00,  4.44089210e-16]])"
      ]
     },
     "execution_count": 4,
     "metadata": {},
     "output_type": "execute_result"
    }
   ],
   "source": [
    "# Define the desired output dimension\n",
    "dim = 2\n",
    "\n",
    "# Create the PCS instance\n",
    "model = PrincipalCA(dim)\n",
    "\n",
    "# Fit the data\n",
    "model.fit(A)\n",
    "\n",
    "# Transform data\n",
    "B = model.transform()\n",
    "B"
   ]
  },
  {
   "cell_type": "markdown",
   "id": "b8c4e597-2a36-4959-ac53-05be5353d2b4",
   "metadata": {},
   "source": [
    "You can also access the eigenvalues(`explained_variance`) and the eigenvectors(`components`)"
   ]
  },
  {
   "cell_type": "code",
   "execution_count": 5,
   "id": "1dad0a69-e528-46e4-ae1c-cec2ce701313",
   "metadata": {},
   "outputs": [
    {
     "data": {
      "text/plain": [
       "array([4.50000000e+01, 9.74548454e-17])"
      ]
     },
     "execution_count": 5,
     "metadata": {},
     "output_type": "execute_result"
    }
   ],
   "source": [
    "model.explained_variance"
   ]
  },
  {
   "cell_type": "code",
   "execution_count": 6,
   "id": "e5b6a3fc-f873-43e4-b297-3fcccff124df",
   "metadata": {},
   "outputs": [
    {
     "data": {
      "text/plain": [
       "array([[-0.57735027, -0.57735027, -0.57735027],\n",
       "       [ 0.        , -0.70710678,  0.70710678]])"
      ]
     },
     "execution_count": 6,
     "metadata": {},
     "output_type": "execute_result"
    }
   ],
   "source": [
    "model.components"
   ]
  },
  {
   "cell_type": "markdown",
   "id": "ee042a3f-e694-40b7-9943-a3567b41641a",
   "metadata": {},
   "source": [
    " "
   ]
  },
  {
   "cell_type": "markdown",
   "id": "831946e8-5868-4c1d-b35f-983461e3b569",
   "metadata": {},
   "source": [
    "### Benchmarking with `sklearn`"
   ]
  },
  {
   "cell_type": "code",
   "execution_count": 7,
   "id": "39d9db3e-ddca-4d22-9916-1703a6eb7cf8",
   "metadata": {},
   "outputs": [
    {
     "data": {
      "text/plain": [
       "array([[ 7.79422863e+00, -1.69309011e-15],\n",
       "       [ 2.59807621e+00, -6.38378239e-16],\n",
       "       [-2.59807621e+00,  6.38378239e-16],\n",
       "       [-7.79422863e+00,  1.69309011e-15]])"
      ]
     },
     "execution_count": 7,
     "metadata": {},
     "output_type": "execute_result"
    }
   ],
   "source": [
    "from sklearn.decomposition import PCA\n",
    "\n",
    "# create the PCA instance\n",
    "pca = PCA(2)\n",
    "\n",
    "# fit on data\n",
    "pca.fit(A)\n",
    "\n",
    "# transform data\n",
    "B_sklearn = pca.transform(A)\n",
    "B_sklearn"
   ]
  },
  {
   "cell_type": "code",
   "execution_count": 8,
   "id": "3fa4e07e-da33-4fe3-b6a5-49bd2d721677",
   "metadata": {},
   "outputs": [
    {
     "data": {
      "text/plain": [
       "array([4.50000000e+01, 1.18244258e-31])"
      ]
     },
     "execution_count": 8,
     "metadata": {},
     "output_type": "execute_result"
    }
   ],
   "source": [
    "pca.explained_variance_"
   ]
  },
  {
   "cell_type": "code",
   "execution_count": 9,
   "id": "685d9154-686b-4f70-b296-b5a78df7922a",
   "metadata": {},
   "outputs": [
    {
     "data": {
      "text/plain": [
       "array([[-0.57735027, -0.57735027, -0.57735027],\n",
       "       [ 0.81649658, -0.40824829, -0.40824829]])"
      ]
     },
     "execution_count": 9,
     "metadata": {},
     "output_type": "execute_result"
    }
   ],
   "source": [
    "pca.components_"
   ]
  }
 ],
 "metadata": {
  "kernelspec": {
   "display_name": "Python 3 (ipykernel)",
   "language": "python",
   "name": "python3"
  },
  "language_info": {
   "codemirror_mode": {
    "name": "ipython",
    "version": 3
   },
   "file_extension": ".py",
   "mimetype": "text/x-python",
   "name": "python",
   "nbconvert_exporter": "python",
   "pygments_lexer": "ipython3",
   "version": "3.9.1"
  }
 },
 "nbformat": 4,
 "nbformat_minor": 5
}
