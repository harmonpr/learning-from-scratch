{
 "cells": [
  {
   "cell_type": "markdown",
   "id": "919d5eb3-ebb1-4ae1-b076-e13605422a9e",
   "metadata": {},
   "source": [
    "# k-Nearest Neighbors"
   ]
  },
  {
   "cell_type": "markdown",
   "id": "bf69c3de-9967-4ab5-97d7-208f88f0aa8f",
   "metadata": {},
   "source": [
    "This notebook shows you a demo about how to use `learning` module. The very beginning step is __to put folder `learning` in your working directory__. Then you can import it for k-nearest neighbors(kNN) case as follow,"
   ]
  },
  {
   "cell_type": "code",
   "execution_count": 1,
   "id": "9f9ebea2-fbc9-43b5-b06d-5fa3b00e55f6",
   "metadata": {},
   "outputs": [],
   "source": [
    "from learning.knn import K_NN"
   ]
  },
  {
   "cell_type": "markdown",
   "id": "514d5e40-465a-4951-beeb-a73a7f7330af",
   "metadata": {},
   "source": [
    "The documentation about `K_NN` class can be accessed by"
   ]
  },
  {
   "cell_type": "code",
   "execution_count": 2,
   "id": "bca3029b-a2e4-4fe9-8549-25675bf4d770",
   "metadata": {},
   "outputs": [
    {
     "data": {
      "text/plain": [
       "\u001b[1;31mInit signature:\u001b[0m \u001b[0mK_NN\u001b[0m\u001b[1;33m(\u001b[0m\u001b[0mn_neighbors\u001b[0m\u001b[1;33m)\u001b[0m\u001b[1;33m\u001b[0m\u001b[1;33m\u001b[0m\u001b[0m\n",
       "\u001b[1;31mDocstring:\u001b[0m     \n",
       "A class use to implement k-Nearest neighbors\n",
       "\n",
       "Attributes\n",
       "----------\n",
       "n_neighbors : int\n",
       "    the number of neighbors\n",
       "X : float\n",
       "    the input array \n",
       "y : float\n",
       "    the output array\n",
       "T : float\n",
       "    the input array that want to be predicted\n",
       "y_pred : float\n",
       "    the prediction array\n",
       "    \n",
       "Methods\n",
       "-------\n",
       "fit(X, y)\n",
       "    Set the input and output array\n",
       "predict(T)\n",
       "    Predict from trained model and return the prediction, y_pred.\n",
       "    The process of this method are below,\n",
       "        1. Compute the distance between one element of T and X\n",
       "        2. Find the nearest distance based on the number of neighbors\n",
       "        3. Get the y_pred by average of y of nearest neighbor\n",
       "        4. Repeat process 1-3 for each element of T\n",
       "\u001b[1;31mFile:\u001b[0m           h:\\dropbox\\machinelearning\\demos\\learning\\knn.py\n",
       "\u001b[1;31mType:\u001b[0m           type\n",
       "\u001b[1;31mSubclasses:\u001b[0m     \n"
      ]
     },
     "metadata": {},
     "output_type": "display_data"
    }
   ],
   "source": [
    "K_NN?"
   ]
  },
  {
   "cell_type": "markdown",
   "id": "c9a1d93b-de42-43f0-84e4-a20a7a286e8f",
   "metadata": {},
   "source": [
    " "
   ]
  },
  {
   "cell_type": "markdown",
   "id": "2a7cde40-d7d1-42bd-b2d7-21fe28f1c9f2",
   "metadata": {},
   "source": [
    "### Module implementation"
   ]
  },
  {
   "cell_type": "markdown",
   "id": "ebfd5055-74e4-45ee-bc9f-60ac317621f3",
   "metadata": {},
   "source": [
    "Now, I will show you how to implement the module."
   ]
  },
  {
   "cell_type": "code",
   "execution_count": 3,
   "id": "a819066f-0c69-4080-a9df-b2c6c517e432",
   "metadata": {},
   "outputs": [],
   "source": [
    "import numpy as np\n",
    "import matplotlib.pyplot as plt\n",
    "\n",
    "# Generate sample data\n",
    "np.random.seed(0)\n",
    "X = np.sort(5 * np.random.rand(40, 1), axis=0)\n",
    "T = np.linspace(0, 5, 500)[:, np.newaxis]\n",
    "y = np.sin(X).ravel()\n",
    "\n",
    "# Add noise to targets\n",
    "y[::5] += 1 * (0.5 - np.random.rand(8))\n",
    "\n",
    "# Number of neighbors\n",
    "n_neighbors = 10"
   ]
  },
  {
   "cell_type": "code",
   "execution_count": 4,
   "id": "4c77de9d-4947-400e-8a2b-c9abc34dc28b",
   "metadata": {},
   "outputs": [],
   "source": [
    "# Create the kNN instance\n",
    "model = K_NN(n_neighbors)\n",
    "\n",
    "# Fit the model\n",
    "model.fit(X, y)\n",
    "\n",
    "# Make prediction using T\n",
    "y_ = model.predict(T)"
   ]
  },
  {
   "cell_type": "code",
   "execution_count": 5,
   "id": "45355f42-8b75-4ea7-8927-ac03b26465db",
   "metadata": {},
   "outputs": [
    {
     "data": {
      "image/png": "[encoded data removed]",
      "text/plain": [
       "<Figure size 432x288 with 1 Axes>"
      ]
     },
     "metadata": {
      "needs_background": "light"
     },
     "output_type": "display_data"
    }
   ],
   "source": [
    "# plot the data and the prediction\n",
    "plt.scatter(X, y, color='darkorange', label='data')\n",
    "plt.plot(T, y_, color='navy', label='prediction')\n",
    "plt.legend()\n",
    "plt.title(\"KNeighborsRegressor\")\n",
    "plt.show()"
   ]
  },
  {
   "cell_type": "markdown",
   "id": "795377b7-bf8f-41b1-9d04-e09cd73b14bc",
   "metadata": {},
   "source": [
    " "
   ]
  },
  {
   "cell_type": "markdown",
   "id": "6d6bc727-8f02-45c8-ac3b-76fa5917f288",
   "metadata": {},
   "source": [
    "### Benchmarking with `sklearn`"
   ]
  },
  {
   "cell_type": "code",
   "execution_count": 6,
   "id": "f9db0067-557b-49fe-a0db-d28a7cb6f530",
   "metadata": {},
   "outputs": [
    {
     "data": {
      "image/png": "[encoded data removed]",
      "text/plain": [
       "<Figure size 432x288 with 1 Axes>"
      ]
     },
     "metadata": {
      "needs_background": "light"
     },
     "output_type": "display_data"
    }
   ],
   "source": [
    "from sklearn import neighbors\n",
    "\n",
    "# Fit regression model\n",
    "knn = neighbors.KNeighborsRegressor(n_neighbors)\n",
    "\n",
    "# Make prediction using T\n",
    "y_ = knn.fit(X, y).predict(T)\n",
    "\n",
    "# Plot the result\n",
    "plt.scatter(X, y, color='darkorange', label='data')\n",
    "plt.plot(T, y_, color='navy', label='prediction')\n",
    "plt.legend()\n",
    "plt.title(\"KNeighborsRegressor\")\n",
    "plt.show()"
   ]
  }
 ],
 "metadata": {
  "kernelspec": {
   "display_name": "Python 3 (ipykernel)",
   "language": "python",
   "name": "python3"
  },
  "language_info": {
   "codemirror_mode": {
    "name": "ipython",
    "version": 3
   },
   "file_extension": ".py",
   "mimetype": "text/x-python",
   "name": "python",
   "nbconvert_exporter": "python",
   "pygments_lexer": "ipython3",
   "version": "3.9.1"
  }
 },
 "nbformat": 4,
 "nbformat_minor": 5
}
