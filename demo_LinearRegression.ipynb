{
 "cells": [
  {
   "cell_type": "markdown",
   "id": "45863576-f438-4cbf-bf26-27dfe83848f1",
   "metadata": {},
   "source": [
    "# Linear Regression"
   ]
  },
  {
   "cell_type": "markdown",
   "id": "f7769796-c95e-430f-9f98-4c70192ce850",
   "metadata": {},
   "source": [
    "This notebook shows you a demo about how to use `learning` module. The very beginning step is __to put folder `learning` in your working directory__. Then you can import it for linear regression case as follow,"
   ]
  },
  {
   "cell_type": "code",
   "execution_count": 1,
   "id": "499af8e0-7b69-49f7-84bc-622050fbbd5d",
   "metadata": {},
   "outputs": [],
   "source": [
    "from learning.linReg import LinearReg"
   ]
  },
  {
   "cell_type": "markdown",
   "id": "1d6ad97f-8b14-481a-a856-30289e125b48",
   "metadata": {},
   "source": [
    "The documentation about `LinearReg` class can be accessed by"
   ]
  },
  {
   "cell_type": "code",
   "execution_count": 2,
   "id": "a1af00ea-3528-47f6-8b7e-49c18988bd0d",
   "metadata": {},
   "outputs": [
    {
     "data": {
      "text/plain": [
       "\u001b[1;31mInit signature:\u001b[0m \u001b[0mLinearReg\u001b[0m\u001b[1;33m(\u001b[0m\u001b[1;33m)\u001b[0m\u001b[1;33m\u001b[0m\u001b[1;33m\u001b[0m\u001b[0m\n",
       "\u001b[1;31mDocstring:\u001b[0m     \n",
       "A class use to implement Linear Regression algorithm\n",
       "\n",
       "Attributes\n",
       "----------\n",
       "intercept : float\n",
       "    the intercept of the line equation\n",
       "coef : float\n",
       "    the slope of the line equation\n",
       "X : float\n",
       "    the input array\n",
       "y : float\n",
       "    the output array\n",
       "y_pred : float\n",
       "    the prediction array\n",
       "    \n",
       "Methods\n",
       "-------\n",
       "dimX(X)\n",
       "    Transform X if its shape (len(X),) become (len(X), 1)\n",
       "fit(X, y)\n",
       "    Train and return the intercept and coefficient(slope).\n",
       "    The calculation using normal function,\n",
       "                $$  heta = (X^T X)^{-1} \\cdot (X^T y) $$\n",
       "    For theta[0] we get the intercept and theta[1:] we get \n",
       "    the coefficient(slope)\n",
       "predict(X)\n",
       "    Predict from trained model and return y_pred. The prediction using\n",
       "    straight line model,\n",
       "                        $$ y = a + bX $$\n",
       "    where y: y_pred, a: the intercept, b: the slope(coef), and the input\n",
       "    array X\n",
       "meanSquaredError(y, y_pred)\n",
       "    Return the mean squared error between y = y_test and y_prediction\n",
       "meanAbsoluteError(y, y_pred)\n",
       "    Return the mean absolute error between y = y_test and y_prediction\n",
       "r2Score(y, y_pred)\n",
       "    Return the r^2 score between y = y_test and y_prediction\n",
       "\u001b[1;31mFile:\u001b[0m           h:\\dropbox\\machinelearning\\demos\\learning\\linreg.py\n",
       "\u001b[1;31mType:\u001b[0m           type\n",
       "\u001b[1;31mSubclasses:\u001b[0m     \n"
      ]
     },
     "metadata": {},
     "output_type": "display_data"
    }
   ],
   "source": [
    "LinearReg?"
   ]
  },
  {
   "cell_type": "markdown",
   "id": "d27c8a5e-891e-4309-80ef-56f9d194a7a7",
   "metadata": {},
   "source": [
    " "
   ]
  },
  {
   "cell_type": "markdown",
   "id": "5f069ca1-87d5-4349-ae09-58181329e315",
   "metadata": {},
   "source": [
    "### Module implementation"
   ]
  },
  {
   "cell_type": "markdown",
   "id": "a7936d75-05a7-454b-8ed9-0a8bdefd648e",
   "metadata": {},
   "source": [
    "Now, I will show you how to implement the module. We generate our random dataset as below,"
   ]
  },
  {
   "cell_type": "code",
   "execution_count": 3,
   "id": "792062fd-b20b-411a-9f36-c3333d4eea74",
   "metadata": {},
   "outputs": [],
   "source": [
    "import numpy as np\n",
    "import matplotlib.pyplot as plt\n",
    "\n",
    "# generate a dataset\n",
    "rng = np.random.RandomState(1)\n",
    "X = 10 * rng.rand(100)\n",
    "y = 2 * X - 5 + rng.randn(100)"
   ]
  },
  {
   "cell_type": "markdown",
   "id": "334805cf-d966-4ec5-b6f2-e1b3c1b806c9",
   "metadata": {},
   "source": [
    "Then we implement the module,"
   ]
  },
  {
   "cell_type": "code",
   "execution_count": 4,
   "id": "b577b51f-c691-4be9-9303-b237beab0b49",
   "metadata": {},
   "outputs": [
    {
     "data": {
      "image/png": "[encoded data removed]",
      "text/plain": [
       "<Figure size 432x288 with 1 Axes>"
      ]
     },
     "metadata": {
      "needs_background": "light"
     },
     "output_type": "display_data"
    }
   ],
   "source": [
    "# Split the data into training/testing sets\n",
    "X_train = X[:60]\n",
    "X_test  = X[60:]\n",
    "y_train = y[:60]\n",
    "y_test  = y[60:]\n",
    "\n",
    "# Create Linear Regression object\n",
    "model = LinearReg()\n",
    "\n",
    "# Train the model using the training sets\n",
    "model.fit(X_train, y_train)\n",
    "\n",
    "# Make prediction using the testing set\n",
    "y_pred = model.predict(X_test)\n",
    "\n",
    "# Plot the result\n",
    "plt.scatter(X_test, y_test)\n",
    "plt.plot(X_test, y_pred, 'r');\n",
    "plt.xlabel('X')\n",
    "plt.ylabel('y');"
   ]
  },
  {
   "cell_type": "markdown",
   "id": "6786f987-bc37-46aa-8b97-328fb0139826",
   "metadata": {},
   "source": [
    "model intercept and slope can be accessed,"
   ]
  },
  {
   "cell_type": "code",
   "execution_count": 5,
   "id": "57413a99-cbed-4dca-8612-8ad56c521112",
   "metadata": {},
   "outputs": [
    {
     "data": {
      "text/plain": [
       "-4.829898447556889"
      ]
     },
     "execution_count": 5,
     "metadata": {},
     "output_type": "execute_result"
    }
   ],
   "source": [
    "model.intercept"
   ]
  },
  {
   "cell_type": "code",
   "execution_count": 6,
   "id": "05290d66-3e09-438c-a0b6-6fce883ed482",
   "metadata": {},
   "outputs": [
    {
     "data": {
      "text/plain": [
       "array([1.97019291])"
      ]
     },
     "execution_count": 6,
     "metadata": {},
     "output_type": "execute_result"
    }
   ],
   "source": [
    "model.coef"
   ]
  },
  {
   "cell_type": "markdown",
   "id": "7c6c1d30-238a-4807-938c-fbd475c7393d",
   "metadata": {},
   "source": [
    "You can also return the metrics including the mean squared error, the mean absolute error, and the $r^2$ score."
   ]
  },
  {
   "cell_type": "code",
   "execution_count": 7,
   "id": "9a43964b-3157-4508-98e2-c259084f95f5",
   "metadata": {},
   "outputs": [
    {
     "data": {
      "text/plain": [
       "0.9329278371121003"
      ]
     },
     "execution_count": 7,
     "metadata": {},
     "output_type": "execute_result"
    }
   ],
   "source": [
    "# The mean squared error\n",
    "model.meanSquaredError(y_test, y_pred)"
   ]
  },
  {
   "cell_type": "code",
   "execution_count": 8,
   "id": "e9be0da2-7f9d-453a-a93a-4c1874207a8f",
   "metadata": {},
   "outputs": [
    {
     "data": {
      "text/plain": [
       "0.6917063322406002"
      ]
     },
     "execution_count": 8,
     "metadata": {},
     "output_type": "execute_result"
    }
   ],
   "source": [
    "# The mean absolute error\n",
    "model.meanAbsoluteError(y_test, y_pred)"
   ]
  },
  {
   "cell_type": "code",
   "execution_count": 9,
   "id": "5d3bf172-657b-485b-85d9-6046d0b00164",
   "metadata": {},
   "outputs": [
    {
     "data": {
      "text/plain": [
       "0.9698180496598352"
      ]
     },
     "execution_count": 9,
     "metadata": {},
     "output_type": "execute_result"
    }
   ],
   "source": [
    "# The r2 score\n",
    "model.r2Score(y_test, y_pred)"
   ]
  },
  {
   "cell_type": "markdown",
   "id": "f1990673-cc6e-4ffe-a9ce-b3c9a2b89da3",
   "metadata": {},
   "source": [
    " "
   ]
  },
  {
   "cell_type": "markdown",
   "id": "a2aec33f-2a7a-4e9c-818a-43535fa5ada6",
   "metadata": {},
   "source": [
    "### Benchmarking with `sklearn`"
   ]
  },
  {
   "cell_type": "code",
   "execution_count": 10,
   "id": "9fe2b477-ae32-4230-8a5f-e48e173d17d2",
   "metadata": {},
   "outputs": [
    {
     "data": {
      "image/png": "[encoded data removed]",
      "text/plain": [
       "<Figure size 432x288 with 1 Axes>"
      ]
     },
     "metadata": {
      "needs_background": "light"
     },
     "output_type": "display_data"
    }
   ],
   "source": [
    "from sklearn.linear_model import LinearRegression\n",
    "from sklearn.metrics import mean_squared_error, mean_absolute_error, r2_score\n",
    "\n",
    "# Create Linear Regression object\n",
    "model_sklearn = LinearRegression(fit_intercept=True)\n",
    "\n",
    "# Train the model using the training sets\n",
    "model_sklearn.fit(X_train[:, np.newaxis], y_train)\n",
    "\n",
    "# Make prediction using the testing set\n",
    "y_pred_sklearn = model.predict(X_test[:, np.newaxis])\n",
    "\n",
    "# Plot the result\n",
    "plt.scatter(X_test, y_test)\n",
    "plt.plot(X_test, y_pred_sklearn, 'r');\n",
    "plt.xlabel('X')\n",
    "plt.ylabel('y');"
   ]
  },
  {
   "cell_type": "code",
   "execution_count": 11,
   "id": "52ae3b3d-d487-4f5c-8fc9-7c893420e79b",
   "metadata": {},
   "outputs": [
    {
     "data": {
      "text/plain": [
       "-4.829898447556874"
      ]
     },
     "execution_count": 11,
     "metadata": {},
     "output_type": "execute_result"
    }
   ],
   "source": [
    "model_sklearn.intercept_"
   ]
  },
  {
   "cell_type": "code",
   "execution_count": 12,
   "id": "ebba2497-4c4d-4556-9da6-0dfb9abcc61b",
   "metadata": {},
   "outputs": [
    {
     "data": {
      "text/plain": [
       "array([1.97019291])"
      ]
     },
     "execution_count": 12,
     "metadata": {},
     "output_type": "execute_result"
    }
   ],
   "source": [
    "model_sklearn.coef_"
   ]
  },
  {
   "cell_type": "code",
   "execution_count": 13,
   "id": "5fdb6323-3b30-4aa7-84c1-2f15adbdf114",
   "metadata": {},
   "outputs": [
    {
     "data": {
      "text/plain": [
       "0.9329278371121003"
      ]
     },
     "execution_count": 13,
     "metadata": {},
     "output_type": "execute_result"
    }
   ],
   "source": [
    "# The mean squared error\n",
    "mean_squared_error(y_test, y_pred_sklearn)"
   ]
  },
  {
   "cell_type": "code",
   "execution_count": 14,
   "id": "765cbb7a-a46d-407a-95f7-667830d32b4d",
   "metadata": {},
   "outputs": [
    {
     "data": {
      "text/plain": [
       "0.6917063322406002"
      ]
     },
     "execution_count": 14,
     "metadata": {},
     "output_type": "execute_result"
    }
   ],
   "source": [
    "# The mean absolute error\n",
    "mean_absolute_error(y_test, y_pred_sklearn)"
   ]
  },
  {
   "cell_type": "code",
   "execution_count": 15,
   "id": "7cbfbfdd-fa6a-4568-9af9-44d919eb0321",
   "metadata": {},
   "outputs": [
    {
     "data": {
      "text/plain": [
       "0.9698180496598352"
      ]
     },
     "execution_count": 15,
     "metadata": {},
     "output_type": "execute_result"
    }
   ],
   "source": [
    "# The r2 score\n",
    "r2_score(y_test, y_pred_sklearn)"
   ]
  }
 ],
 "metadata": {
  "kernelspec": {
   "display_name": "Python 3 (ipykernel)",
   "language": "python",
   "name": "python3"
  },
  "language_info": {
   "codemirror_mode": {
    "name": "ipython",
    "version": 3
   },
   "file_extension": ".py",
   "mimetype": "text/x-python",
   "name": "python",
   "nbconvert_exporter": "python",
   "pygments_lexer": "ipython3",
   "version": "3.9.1"
  }
 },
 "nbformat": 4,
 "nbformat_minor": 5
}
